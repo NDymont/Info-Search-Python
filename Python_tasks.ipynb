{
 "cells": [
  {
   "cell_type": "markdown",
   "id": "93427b3b-bacb-4fdf-b071-77614321af79",
   "metadata": {},
   "source": [
    "# Треугольник паскаля"
   ]
  },
  {
   "cell_type": "markdown",
   "id": "8a430d96-1cd9-4770-9e78-99318e7f2ff1",
   "metadata": {},
   "source": [
    "1. Напишите программу, которая запрашивает у пользователя число n, а затем выводит n первых строк [треугольника Паскаля](https://ru.wikipedia.org/wiki/%D0%A2%D1%80%D0%B5%D1%83%D0%B3%D0%BE%D0%BB%D1%8C%D0%BD%D0%B8%D0%BA_%D0%9F%D0%B0%D1%81%D0%BA%D0%B0%D0%BB%D1%8F). Обеспечьте отказоустойчивость при введении пользователем не валидного значения n (т.е. не целого положительного числа)"
   ]
  },
  {
   "cell_type": "code",
   "execution_count": 9,
   "id": "23f50db8-e262-450e-b23d-3e2e2efa066a",
   "metadata": {},
   "outputs": [
    {
     "name": "stdin",
     "output_type": "stream",
     "text": [
      "Введите число:  8.6\n"
     ]
    },
    {
     "name": "stdout",
     "output_type": "stream",
     "text": [
      "Вы ввели не число\n"
     ]
    }
   ],
   "source": [
    "def paskal(n):\n",
    "    list = [1] \n",
    "    # new_list = []\n",
    "    for i in range(1, n+1):\n",
    "        new_list = [1] * i\n",
    "        for j in range(1, i-1):\n",
    "            new_list[j] = list[j-1] + list[j]\n",
    "        print(new_list)\n",
    "        list = new_list\n",
    "\n",
    "input_txt = input(\"Введите число: \")\n",
    "try: \n",
    "  #Если ввести не число, то данная строка сгенерирует исключение ValueError\n",
    "  input_number = int(input_txt)\n",
    "except ValueError:\n",
    "  print(\"Вы ввели не число\")\n",
    "else:\n",
    "    if input_number < 0:\n",
    "        print(\"Число должно быть целым положительным\")\n",
    "    else: \n",
    "        paskal(input_number)"
   ]
  },
  {
   "cell_type": "markdown",
   "id": "4db8bf24-4155-4878-8568-b902305b8af4",
   "metadata": {},
   "source": [
    "# Скобочная последовательность"
   ]
  },
  {
   "cell_type": "markdown",
   "id": "f640167d-c2d2-49e9-ad89-b777438f1bc3",
   "metadata": {},
   "source": [
    "2. Напишите программу, которая принимает на вход(из файла либо из консоли) [скобочную последовательность](https://ru.wikipedia.org/wiki/%D0%9F%D1%80%D0%B0%D0%B2%D0%B8%D0%BB%D1%8C%D0%BD%D0%B0%D1%8F_%D1%81%D0%BA%D0%BE%D0%B1%D0%BE%D1%87%D0%BD%D0%B0%D1%8F_%D0%BF%D0%BE%D1%81%D0%BB%D0%B5%D0%B4%D0%BE%D0%B2%D0%B0%D1%82%D0%B5%D0%BB%D1%8C%D0%BD%D0%BE%D1%81%D1%82%D1%8C), а результатом работы которой является ответ, является ли данная скобочная последовательность правильной.  \n",
    "Пример:  \n",
    "\"(()())()\" - Правильная последовательность  \n",
    "\"(()))\" - Неправильная последовательность  \n",
    "\")())(\" - Неправильная последовательность"
   ]
  },
  {
   "cell_type": "code",
   "execution_count": 36,
   "id": "6793aabb-a21c-4405-b1e2-795e38131bc3",
   "metadata": {},
   "outputs": [
    {
     "name": "stdin",
     "output_type": "stream",
     "text": [
      " (\n"
     ]
    },
    {
     "name": "stdout",
     "output_type": "stream",
     "text": [
      "Неправильная последовательность\n"
     ]
    }
   ],
   "source": [
    "def check(bracket_sequence):\n",
    "    count_open = 0\n",
    "    for x in bracket_sequence:\n",
    "        if x == '(':\n",
    "            count_open = count_open + 1\n",
    "        elif x == ')':\n",
    "            count_open = count_open - 1\n",
    "        if count_open < 0:\n",
    "            return False\n",
    "    if count_open > 0:\n",
    "        return False\n",
    "    return True\n",
    "\n",
    "bracket_sequence = input()\n",
    "if check(bracket_sequence):\n",
    "    print('Правильная последовательность')\n",
    "else:\n",
    "    print('Неправильная последовательность')"
   ]
  },
  {
   "cell_type": "markdown",
   "id": "726a6a63-0d5b-4f1e-99ed-f5718968086f",
   "metadata": {},
   "source": [
    "# Шифр Цезаря"
   ]
  },
  {
   "cell_type": "markdown",
   "id": "652e84b3-dfda-46e4-8b49-ffc5a4d5f382",
   "metadata": {},
   "source": [
    "3. [Шифр Цезаря](https://ru.wikipedia.org/wiki/%D0%A8%D0%B8%D1%84%D1%80_%D0%A6%D0%B5%D0%B7%D0%B0%D1%80%D1%8F) — это вид шифра подстановки, в котором каждый символ в открытом тексте заменяется символом, находящимся на некотором постоянном числе позиций левее или правее него в алфавите. Напишите программу, которая реализует шифрование Цезаря. Входные данные: путь до изначального файла с текстом, требуемый сдвиг и язык текста(на выбор английский либо русский). Результат работы - новый файл с зашифрованным текстом."
   ]
  },
  {
   "cell_type": "code",
   "execution_count": 3,
   "id": "1913a427-2ce5-4fb5-9aa0-d159d29b307d",
   "metadata": {},
   "outputs": [
    {
     "name": "stdin",
     "output_type": "stream",
     "text": [
      "Введите путь до файла:  ru.txt\n",
      "Введите сдвиг:  1\n",
      "Введите язык (en/ru):  ru\n"
     ]
    }
   ],
   "source": [
    "def cesarFiles():\n",
    "    try:\n",
    "        input_file_path = input(\"Введите путь до файла: \")\n",
    "        shift = int(input(\"Введите сдвиг: \"))\n",
    "        language = input(\"Введите язык (en/ru): \")\n",
    "\n",
    "        with open(input_file_path, \"r\", encoding=\"utf-8\") as file:\n",
    "            text = file.read()\n",
    "\n",
    "        encrypted_text = cesarEncrypter(text, shift, language)\n",
    "\n",
    "        with open(\"out.txt\", \"w\", encoding=\"utf-8\") as file:\n",
    "            file.write(encrypted_text)\n",
    "\n",
    "    except Exception as e:\n",
    "        print(e)\n",
    "\n",
    "def cesarEncrypter(text, shift, language):\n",
    "    result = \"\"\n",
    "    alphabet = \"\"\n",
    "\n",
    "    if language.lower() == \"en\":\n",
    "        alphabet = \"ABCDEFGHIJKLMNOPQRSTUVWXYZ\"\n",
    "    elif language.lower() == \"ru\":\n",
    "        alphabet = \"АБВГДЕЁЖЗИЙКЛМНОПРСТУФХЦЧШЩЪЫЬЭЮЯ\"\n",
    "    else:\n",
    "        print(\"Нет такого языка...\")\n",
    "        return\n",
    "\n",
    "    for char in text:\n",
    "        if char.upper() in alphabet:\n",
    "            is_upper = char.isupper()\n",
    "            index = (alphabet.index(char.upper()) + shift) % len(alphabet)\n",
    "            if is_upper:\n",
    "                result += alphabet[index]\n",
    "            else:\n",
    "                result += alphabet[index].lower()\n",
    "        else:\n",
    "            result += char\n",
    "\n",
    "    return result\n",
    "\n",
    "if __name__ == \"__main__\":\n",
    "    cesarFiles()\n"
   ]
  },
  {
   "cell_type": "code",
   "execution_count": null,
   "id": "87086454-251e-4f54-ab40-0cf19d936674",
   "metadata": {},
   "outputs": [],
   "source": []
  }
 ],
 "metadata": {
  "kernelspec": {
   "display_name": "Python 3 (ipykernel)",
   "language": "python",
   "name": "python3"
  },
  "language_info": {
   "codemirror_mode": {
    "name": "ipython",
    "version": 3
   },
   "file_extension": ".py",
   "mimetype": "text/x-python",
   "name": "python",
   "nbconvert_exporter": "python",
   "pygments_lexer": "ipython3",
   "version": "3.10.7"
  }
 },
 "nbformat": 4,
 "nbformat_minor": 5
}
